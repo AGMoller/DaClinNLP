{
 "cells": [
  {
   "cell_type": "code",
   "execution_count": null,
   "metadata": {},
   "outputs": [],
   "source": [
    "import csv\n",
    "import json\n",
    "import os\n",
    "import re\n",
    "import time\n",
    "\n",
    "import pandas as pd\n",
    "import requests\n",
    "from dotenv import load_dotenv\n",
    "from elasticsearch import Elasticsearch\n",
    "from elasticsearch.helpers import bulk\n",
    "from requests.auth import HTTPBasicAuth\n",
    "from sentence_transformers import SentenceTransformer\n"
   ]
  },
  {
   "cell_type": "markdown",
   "metadata": {},
   "source": [
    "## Define ES Client"
   ]
  },
  {
   "cell_type": "code",
   "execution_count": null,
   "metadata": {},
   "outputs": [],
   "source": [
    "load_dotenv()\n",
    "ES_ENDPOINT = os.getenv(\"ES_ENDPOINT\")\n",
    "ES_USER = os.getenv(\"ES_USER\")\n",
    "ES_PASSWORD = os.getenv(\"ES_PASSWORD\")"
   ]
  },
  {
   "cell_type": "code",
   "execution_count": null,
   "metadata": {},
   "outputs": [],
   "source": [
    "# create an elasticsearch client\n",
    "class Elastic:\n",
    "    \"\"\"\n",
    "    A convenience object to send HTTP requests to Elasticsearch\n",
    "    \"\"\"\n",
    "    def __init__(self, endpoint, username, password):\n",
    "        \"\"\"\n",
    "        @param endpoint: the URL of the Elasticsearch instance\n",
    "        @param username: the Elasticsearch username \n",
    "        @param password: the Elasticsearch password\n",
    "        \"\"\"\n",
    "        self.header = {'Content-Type': 'application/json', 'charset':'UTF-8'}\n",
    "        #self.header={'Content-Type': '--data-binary application/x-ndjson'}\n",
    "        self.endpoint = endpoint\n",
    "        self.username = username\n",
    "        self.password = password\n",
    "        self.methods_mapping = {'get': requests.get, \n",
    "                                'put':requests.put, \n",
    "                                'post':requests.post, \n",
    "                                'delete':requests.delete}\n",
    "        \n",
    "    def curl(self, method, handle, json=None):\n",
    "        \"\"\"\n",
    "        Sends an HTTP request to the Elasticsearch instanc\n",
    "        @param method: can be 'get', 'put', 'post', 'delete'\n",
    "        @param handle: the API handle to be appended to the Elasticsearch url\n",
    "        @param json: the json payload of the HTTP request\n",
    "        \"\"\"\n",
    "        http_method = self.methods_mapping[method.lower()]\n",
    "        r = http_method(f'{self.endpoint}/{handle}', auth=HTTPBasicAuth(self.username, self.password), \n",
    "                        headers=self.header, json=json)\n",
    "        return r"
   ]
  },
  {
   "cell_type": "code",
   "execution_count": null,
   "metadata": {},
   "outputs": [],
   "source": [
    "# instantiate the Elastic object\n",
    "e = Elastic(\n",
    "    endpoint=ES_ENDPOINT,\n",
    "    username=ES_USER,\n",
    "    password=ES_PASSWORD\n",
    ")"
   ]
  },
  {
   "cell_type": "markdown",
   "metadata": {},
   "source": [
    "## Create ICD Code index"
   ]
  },
  {
   "cell_type": "code",
   "execution_count": null,
   "metadata": {},
   "outputs": [],
   "source": [
    "# Define mappings, settings, and types for the index\n",
    "create_index_json={\n",
    "  \"mappings\" : {\n",
    "      \"properties\" : {\n",
    "        \"icd_code\" : {\n",
    "          \"type\" : \"keyword\", # point 4\n",
    "        },\n",
    "        \"icd_description\" : {\n",
    "          \"type\" : \"text\",\n",
    "      },\n",
    "      \"icd_embedding\" : {\n",
    "        \"type\": \"dense_vector\",\n",
    "        \"dims\": 768\n",
    "    },\n",
    "  }\n",
    "},\n",
    "  \"settings\": {\n",
    "    \"number_of_shards\": 4, \n",
    "    \"number_of_replicas\": 3, # point 3 \n",
    "    \"index.max_result_window\": 20000,\n",
    "    \"index.refresh_interval\": \"-1\", # point 2\n",
    "    \"index\" : {\n",
    "        \"similarity\" : {\n",
    "          \"default\" : {\n",
    "            \"type\" : \"BM25\", \"b\": 0.75, \"k1\": 1.2 # point 5\n",
    "          }\n",
    "        }\n",
    "    },\n",
    "    \"analysis\": {\n",
    "      \"analyzer\": {\n",
    "        \"std_danish\": {\"type\": \"standard\", \"stopwords\": \"_danish_\" }\n",
    "      }\n",
    "    }\n",
    "  }\n",
    "}\n",
    "\n",
    "index_name = 'icd_codes'\n",
    "\n",
    "# create an index\n",
    "# r = e.curl('put', index_name, json=create_index_json)\n",
    "# r.json()"
   ]
  },
  {
   "cell_type": "code",
   "execution_count": null,
   "metadata": {},
   "outputs": [],
   "source": [
    "# Load data and embed text\n",
    "icd_codes = {}\n",
    "with open('../../data/icd_codes_danish/d_diagnosis_codes.csv') as codes:\n",
    "    f = csv.reader(codes, delimiter=';', )\n",
    "    for i in f: \n",
    "        icd_code, icd_description = i[0], i[1]\n",
    "        if icd_code[1:] == '':\n",
    "            continue\n",
    "        icd_codes[icd_code[1:]] = icd_description # First char is not ICD\n",
    "\n",
    "model = SentenceTransformer('Geotrend/distilbert-base-da-cased')\n",
    "embeddings = model.encode(list(icd_codes.values()), normalize_embeddings=True)"
   ]
  },
  {
   "cell_type": "code",
   "execution_count": null,
   "metadata": {},
   "outputs": [],
   "source": [
    "docs, doc_ids = [], []\n",
    "for i, data in enumerate(zip(list(icd_codes.keys()), list(icd_codes.values()), embeddings.tolist())):\n",
    "    icd_code, icd_description, embedding = data\n",
    "    doc = {\n",
    "        'icd_code': icd_code,\n",
    "        'icd_description': icd_description,\n",
    "        'icd_embedding': embedding\n",
    "    }\n",
    "    docs.append(doc)\n",
    "    doc_ids.append(icd_code)"
   ]
  },
  {
   "cell_type": "code",
   "execution_count": null,
   "metadata": {},
   "outputs": [],
   "source": []
  },
  {
   "cell_type": "code",
   "execution_count": null,
   "metadata": {},
   "outputs": [],
   "source": [
    "# Usse the elasticsearch wrapper client to bulk index the data\n",
    "es = Elasticsearch([ES_ENDPOINT], http_auth=(ES_USER, ES_PASSWORD))\n",
    "\n",
    "actions = [\n",
    "  {\n",
    "    \"_index\": index_name,\n",
    "    \"_id\": doc_id,\n",
    "    \"_source\": doc\n",
    "  }\n",
    "  for doc_id, doc in list(zip(doc_ids, docs))\n",
    "]\n",
    "\n",
    "# the API takes care of chunking them optimally\n",
    "bulk(es, actions) # point 1\n",
    "\n",
    "# Refresh whenever we have indexed the data\n",
    "# r = e.curl('post', f'{index_name}/_refresh')\n",
    "# r.json()"
   ]
  },
  {
   "cell_type": "code",
   "execution_count": null,
   "metadata": {},
   "outputs": [],
   "source": []
  }
 ],
 "metadata": {
  "kernelspec": {
   "display_name": "Python 3.9.13 ('daclinnlp')",
   "language": "python",
   "name": "python3"
  },
  "language_info": {
   "codemirror_mode": {
    "name": "ipython",
    "version": 3
   },
   "file_extension": ".py",
   "mimetype": "text/x-python",
   "name": "python",
   "nbconvert_exporter": "python",
   "pygments_lexer": "ipython3",
   "version": "3.9.13"
  },
  "orig_nbformat": 4,
  "vscode": {
   "interpreter": {
    "hash": "2ef71bf791162575559a5bd2d2484c8f2e2bd6dd2d074e2a73ae54bd6f9f40ba"
   }
  }
 },
 "nbformat": 4,
 "nbformat_minor": 2
}
